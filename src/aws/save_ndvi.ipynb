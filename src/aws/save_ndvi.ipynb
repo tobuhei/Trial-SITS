{
 "cells": [
  {
   "cell_type": "code",
   "execution_count": 1,
   "id": "f41561cf-1552-4e40-9e09-910c3ffd3a35",
   "metadata": {},
   "outputs": [
    {
     "name": "stdout",
     "output_type": "stream",
     "text": [
      "188/188Error reading files: list index out of range\n"
     ]
    }
   ],
   "source": [
    "# NDVIを保存する\n",
    "import boto3\n",
    "import rasterio as rio\n",
    "from rasterio.windows import Window\n",
    "import matplotlib.pyplot as plt\n",
    "import numpy as np\n",
    "from pyproj import Transformer\n",
    "import datetime\n",
    "import re\n",
    "import os\n",
    "import common\n",
    "\n",
    "# S3バケット名を指定\n",
    "s3 = boto3.client(\"s3\")\n",
    "s3_bucket = \"helios-rs-datalake\"  # 自分のS3バケット名\n",
    "# prefix = \"Project/arkedge-sbir/Sentinel2/Paraguay-Desmochados/\"  # バケット内のフォルダパス\n",
    "prefix = \"Project/arkedge-sbir/Sentinel2/Paraguay/\"  # バケット内のフォルダパス\n",
    "# prefix = \"Project/arkedge-sbir/Sentinel2/Makinohara/\"  # バケット内のフォルダパス\n",
    "output_dir = \"NDVI/\"\n",
    "\n",
    "# ファイル一覧を入手\n",
    "file_list = common.get_filelist(s3, s3_bucket, prefix)\n",
    "\n",
    "# 条件に一致するファイルを抽出\n",
    "B4_files = [path for path in file_list if \"B04\" in path]\n",
    "B8_files = [path for path in file_list if \"B08\" in path]\n",
    "\n",
    "# for i in range(1): # for debug\n",
    "for i in range(len(B4_files)):\n",
    "    print(\"\\r\"+str(i+1) + '/' + str(len(B4_files)),end=\"\")\n",
    "    try:\n",
    "        B4 = rio.open('s3://' + s3_bucket + '/' + B4_files[i])\n",
    "        B8 = rio.open('s3://' + s3_bucket + '/' + B8_files[i])\n",
    "        meta = B4.meta.copy()\n",
    "        meta.update({\n",
    "            \"count\": 1,  # 出力バンド数\n",
    "            \"dtype\": \"float32\"\n",
    "        })\n",
    "        B4 = B4.read(1).astype('float')\n",
    "        B8 = B8.read(1).astype('float')\n",
    "        NDVI = (B8 - B4) / (B8 + B4 + 1e-6)\n",
    "        outputname = os.path.basename(B4_files[i].replace('B04', 'NDVI'))\n",
    "        common.s3_upload(s3, s3_bucket, prefix + output_dir + outputname, NDVI, meta)\n",
    "    except Exception as e:\n",
    "        print(f\"Error reading files: {e}\")\n"
   ]
  },
  {
   "cell_type": "code",
   "execution_count": null,
   "id": "d7f9ab6a-3194-48f9-ba40-45f537563317",
   "metadata": {},
   "outputs": [],
   "source": [
    "# 上記スクリプトで下記は読み込み失敗する\n",
    "# Project/arkedge-sbir/Sentinel2/Paraguay-Desmochados/T21JUL_20220903T135709_B04_10m.tif\n",
    "# Project/arkedge-sbir/Sentinel2/Paraguay-Desmochados/T21JUL_20221028T135711_B04_10m.tif\n",
    "# Project/arkedge-sbir/Sentinel2/Paraguay-Desmochados/T21JUL_20230220T135709_B04_10m.tif\n",
    "# Project/arkedge-sbir/Sentinel2/Paraguay-Desmochados/T21JUL_20230730T135709_B04_10m.tif"
   ]
  }
 ],
 "metadata": {
  "kernelspec": {
   "display_name": "Python 3 (ipykernel)",
   "language": "python",
   "name": "python3"
  },
  "language_info": {
   "codemirror_mode": {
    "name": "ipython",
    "version": 3
   },
   "file_extension": ".py",
   "mimetype": "text/x-python",
   "name": "python",
   "nbconvert_exporter": "python",
   "pygments_lexer": "ipython3",
   "version": "3.11.10"
  }
 },
 "nbformat": 4,
 "nbformat_minor": 5
}
